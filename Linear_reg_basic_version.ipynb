{
 "cells": [
  {
   "cell_type": "markdown",
   "metadata": {},
   "source": [
    "## LINEAR REGRESSION USING FIRST PRINCIPLE"
   ]
  },
  {
   "cell_type": "markdown",
   "metadata": {},
   "source": [
    "### Linear Regression\n",
    "Linear programming is a mathematical technique for finding optimal solutions to problems that can be expressed using linear equations and inequalities.\n",
    "Linear regression attempts to model the relationship between two variables by fitting a linear equation to observed data. One variable is considered to be an explanatory variable, and the other is considered to be a dependent variable."
   ]
  },
  {
   "cell_type": "markdown",
   "metadata": {},
   "source": [
    "## Overview"
   ]
  },
  {
   "cell_type": "markdown",
   "metadata": {},
   "source": [
    "#### Hypothesis (h)\n",
    "Hypothesis is a significant relationship between an independent variable X and a dependent variable Y.\n",
    "\n",
    "${x_0}$ is bias value should be 1\n",
    "\n",
    "\n",
    "   $\\begin{align}\n",
    "    \\ {h} = \\theta_0*x_0+ \\theta_1*x_1 \\;\\;(For\\;single\\;variable)\n",
    "    \\end{align}\n",
    "   $"
   ]
  },
  {
   "cell_type": "markdown",
   "metadata": {},
   "source": [
    "#### Cost Function (mean squared difference )\n",
    "$\\begin{align}\n",
    "   \\ {J(min)} = (1/(2*m))* \\sum_{i=1}^m (h_i - y_i )^2\n",
    "   \\end{align}\n",
    "    $"
   ]
  },
  {
   "cell_type": "markdown",
   "metadata": {},
   "source": [
    "#### Gradient Descent\n",
    "Gradient Descent is a general function for minimizing a parameter, in this case the Mean Squared Error(MSE) cost function.\n",
    "\n",
    "$\\begin{align}\n",
    "   \\ {\\theta} = {\\theta}-{ \\alpha }\\frac{\\partial j}{\\Bigl({\\partial \\theta}\\Bigr)}  \n",
    "   \\end{align}\n",
    "    $\n"
   ]
  },
  {
   "cell_type": "markdown",
   "metadata": {},
   "source": [
    "## Data\n",
    "Import data to apply linear regression."
   ]
  },
  {
   "cell_type": "code",
   "execution_count": 78,
   "metadata": {},
   "outputs": [],
   "source": [
    "#Import libraries\n",
    "import numpy as np\n",
    "import pandas as pd\n",
    "import matplotlib.pyplot as plt"
   ]
  },
  {
   "cell_type": "code",
   "execution_count": 79,
   "metadata": {},
   "outputs": [
    {
     "data": {
      "text/html": [
       "<div>\n",
       "<style scoped>\n",
       "    .dataframe tbody tr th:only-of-type {\n",
       "        vertical-align: middle;\n",
       "    }\n",
       "\n",
       "    .dataframe tbody tr th {\n",
       "        vertical-align: top;\n",
       "    }\n",
       "\n",
       "    .dataframe thead th {\n",
       "        text-align: right;\n",
       "    }\n",
       "</style>\n",
       "<table border=\"1\" class=\"dataframe\">\n",
       "  <thead>\n",
       "    <tr style=\"text-align: right;\">\n",
       "      <th></th>\n",
       "      <th>X</th>\n",
       "      <th>Y</th>\n",
       "    </tr>\n",
       "  </thead>\n",
       "  <tbody>\n",
       "    <tr>\n",
       "      <th>0</th>\n",
       "      <td>6.1101</td>\n",
       "      <td>17.5920</td>\n",
       "    </tr>\n",
       "    <tr>\n",
       "      <th>1</th>\n",
       "      <td>5.5277</td>\n",
       "      <td>9.1302</td>\n",
       "    </tr>\n",
       "    <tr>\n",
       "      <th>2</th>\n",
       "      <td>8.5186</td>\n",
       "      <td>13.6620</td>\n",
       "    </tr>\n",
       "    <tr>\n",
       "      <th>3</th>\n",
       "      <td>7.0032</td>\n",
       "      <td>11.8540</td>\n",
       "    </tr>\n",
       "    <tr>\n",
       "      <th>4</th>\n",
       "      <td>5.8598</td>\n",
       "      <td>6.8233</td>\n",
       "    </tr>\n",
       "  </tbody>\n",
       "</table>\n",
       "</div>"
      ],
      "text/plain": [
       "        X        Y\n",
       "0  6.1101  17.5920\n",
       "1  5.5277   9.1302\n",
       "2  8.5186  13.6620\n",
       "3  7.0032  11.8540\n",
       "4  5.8598   6.8233"
      ]
     },
     "execution_count": 79,
     "metadata": {},
     "output_type": "execute_result"
    }
   ],
   "source": [
    "# Read the data set\n",
    "data = pd.read_csv('ex1data1.csv')\n",
    "data.head()"
   ]
  },
  {
   "cell_type": "code",
   "execution_count": 80,
   "metadata": {},
   "outputs": [
    {
     "name": "stdout",
     "output_type": "stream",
     "text": [
      "(97, 1)\n",
      "(97, 1)\n"
     ]
    }
   ],
   "source": [
    "#loc attribute access paticular cell in the given DataFrame using the index & column labels.\n",
    "x=np.array(data.iloc[:,0:-1])\n",
    "y=np.transpose([np.array(data.iloc[:,-1])])\n",
    "print(np.shape(x))\n",
    "print(np.shape(y))"
   ]
  },
  {
   "cell_type": "code",
   "execution_count": 81,
   "metadata": {},
   "outputs": [
    {
     "data": {
      "image/png": "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\n",
      "text/plain": [
       "<Figure size 432x288 with 1 Axes>"
      ]
     },
     "metadata": {
      "needs_background": "light"
     },
     "output_type": "display_data"
    }
   ],
   "source": [
    "#ploting X and Y Dataset (x should be input dataset and y should output dataset(left side))\n",
    "plt.figure(1)\n",
    "plt.title(\"Generated data\")\n",
    "plt.xlabel(\"X\")\n",
    "plt.ylabel(\"Y\")\n",
    "plt.plot(x,y,'*')\n",
    "plt.show()"
   ]
  },
  {
   "cell_type": "markdown",
   "metadata": {},
   "source": [
    "### Training & Testing Dataset"
   ]
  },
  {
   "cell_type": "markdown",
   "metadata": {},
   "source": [
    "The training data is used to make sure the machine recognizes patterns in the data,and the test data is used to see how well the machine can predict new answers based on its training."
   ]
  },
  {
   "cell_type": "code",
   "execution_count": 82,
   "metadata": {},
   "outputs": [],
   "source": [
    "#split function using randomization \n",
    "def split_data(x,y,test_per):\n",
    "    m=len(x)\n",
    "    random_data=np.random.randint(0,m,m)\n",
    "    #Number Of train set & test set \n",
    "    num_train_set = int((1-test_per)*m)\n",
    "    num_test_set  = int(test_per*m)\n",
    "    train_ind=random_data[0:num_train_set]\n",
    "    #creating a array of zeros for the train dataset\n",
    "    x_train=np.zeros((len(train_ind),1))\n",
    "    y_train=np.zeros((len(train_ind),1))\n",
    "    # x_train & y_train after the split \n",
    "    x_train = x[train_ind]\n",
    "    y_train = y[train_ind]\n",
    "    \n",
    "    num_test_set=random_data[num_train_set::]\n",
    "    #creating a array of zeros for the test dataset\n",
    "    x_test=np.zeros((len(num_test_set),1))\n",
    "    y_test=np.zeros((len(num_test_set),1))\n",
    "    #x_test & y_test after the split\n",
    "    x_test = x[num_test_set]\n",
    "    y_test = y[num_test_set]\n",
    "    return x_train,y_train,x_test,y_test"
   ]
  },
  {
   "cell_type": "code",
   "execution_count": 83,
   "metadata": {},
   "outputs": [
    {
     "data": {
      "image/png": "iVBORw0KGgoAAAANSUhEUgAAAXUAAAD8CAYAAACINTRsAAAABHNCSVQICAgIfAhkiAAAAAlwSFlzAAALEgAACxIB0t1+/AAAADl0RVh0U29mdHdhcmUAbWF0cGxvdGxpYiB2ZXJzaW9uIDMuMC4yLCBodHRwOi8vbWF0cGxvdGxpYi5vcmcvOIA7rQAAHXlJREFUeJzt3XuUVOWZ7/Hvw6Xpi3RABEFQG414aZAWW1Y4iQdD4Cwvs0aTJaJAJIasFp3MMazDcTwz54wJ/CMzE0lcS3GIITpnvGAioiujw00NMgkqSDc2IKNBNKSbex9w2bTc3vPHrobqpqq7qnpX7Uv9Pmv12lW7d9X7NOx++q13v/t5zTmHiIjEQ6+gAxAREf8oqYuIxIiSuohIjCipi4jEiJK6iEiMKKmLiMSIkrqISIwoqYuIxIiSuohIjPQpZGPnnXeeq6qqKmSTIiKRt2nTpgPOucGZHFvQpF5VVcXGjRsL2aSISOSZ2aeZHqvhFxGRGFFSFxGJESV1EZEYKeiYeirHjx9n9+7dtLW1BR1K7JSWljJixAj69u0bdCgiUiCBJ/Xdu3fTv39/qqqqMLOgw4kN5xwHDx5k9+7djBw5MuhwRKRAAh9+aWtrY9CgQUroPjMzBg0apE9AEk+rV0OfPvDGG0FHEjqBJ3VACT1P9O8qsTVtGpw8CbffHnQkoRP48IuISMY6d1RaWs7s09KcQEh66kE6ePAgNTU11NTUMHToUIYPH376+bFjxzJ6j3vuuYcdO3Zk3OZTTz3F4MGDueaaa7jsssu48cYb2bBhQ7evW758OR9++GHG7YjEzqpVUF7ecV9FBaxdG0w8IRTNnnpzM9x5JyxbBkOH9uitBg0aRH19PQA//vGPOeecc5g3b16HY5xzOOfo1Sv138Bf/epXWbc7Y8YMfvaznwGwZs0abr31Vt5++21GjRqV9jXLly+nV69eXHHFFVm3JxILU6ZAv37Q2npmX0kJTJoUXEwhE82e+oIFsH49zJ+ftyY+/vhjRo8ezZw5cxg3bhzNzc3U1dVRW1tLdXU185Pa/sY3vkF9fT0nTpxgwIABPPTQQ4wdO5YJEyawb9++btuaPHkys2fP5he/+AUATz75JNdddx1jx45l6tSpHD16lLfffpvXXnuNuXPnUlNTw65du1IeJxJ7ra0wcCAsXOhtkxO8RCypl5V542eLF8OpU97WzNufB9u2bWP27Nls3ryZ4cOH88gjj7Bx40YaGhpYvXo127ZtO+s1hw8fZuLEiTQ0NDBhwgSWLl2aUVvjxo07PbQydepU3nvvPRoaGrj00kt5+umnuf7667n55ptZtGgR9fX1VFVVpTxOJPba2uDQIXjwQW+rGV4dRCup79wJ06efGVMrL4cZM+CTT/LS3KWXXsp11113+vnzzz/PuHHjGDduHNu3b0+Z1MvKyrjpppsAuPbaa9m1a1dGbbmkizxbtmzh+uuvZ8yYMbzwwgts3bo15WsyPU5Eike0xtSHDYPKSu8vc2mpt62s7PG4ejoVFRWnH3/00Uf8/Oc/591332XAgAHMnDkz5RzwkpKS04979+7NiRMnMmpr8+bNXHnllQDcfffdvP7664wePZqnnnoq7UXUTI8TkeIRrZ46wN69MGcObNjgbffsKUizR44coX///lRWVtLc3MzKlSt9e+8333yTpUuXMnv2bAC++OILhg4dyvHjx3nuuedOH9e/f38+//zz08/THScixStaPXWA5cvPPH788YI1O27cOK666ipGjx7NJZdcwte//vUevd+zzz7LW2+9RWtrK5dccgkrVqzg8ssvB2D+/PmMHz+eiy66iNGjR5/+RHDXXXdx77338tOf/pQVK1akPU5Eipe5Ak7Yr62tdZ0Xydi+ffvpYQfxn/59RaLPzDY552ozOTZ6wy8iIpKWkrqISIwoqYuIpFNfDwMGwJYtQUeSMSV1EZF0Zs6Ew4e9+2MiInqzX0RE8q1zNcitWyNTDVI9dRGRzjZvhosv7rivqgoaGgIJJxtFn9T9KL0LsHTpUvakuRFq5syZjBw5krFjxzJq1ChmzZpFU1NTt+/56KOPau65SBBqarySvskqKuDqq4OJJwuRTOrNzTBxoj83k7aX3q2vr2fOnDnMnTv39PPkW/6701VSB1i0aBENDQ18+OGHjBkzhkmTJnH8+PEu31NJXSRALS1QXe2V+K6u9oqHRUAkk3oBKu8C8MwzzzB+/Hhqamq4//77OXXqFCdOnOC73/0uY8aMYfTo0Tz22GMsW7aM+vp6pk2b1m0Pv1evXsybN49zzz2XVatWAaQs6bto0SL27dvH9ddfz+TJk9MeJyJ50tQEjY1wxx3eNoNP12HQbVI3swvN7E0z225mW83sgcT+c81stZl9lNgOzHewhay829jYyMsvv8zvf//707XSX3jhBTZt2sSBAwf44IMPaGxs5O677z6dzNuTeyY9/ORSu6lK+s6dO5chQ4bw9ttvs2bNmrTHiYgky6SnfgL4H865K4GvAX9lZlcBDwFrnXOXAWsTz/OqkJV316xZw3vvvUdtbS01NTX87ne/449//CNf/epX2bFjBw888AArV67kK1/5Sk7vn1yeIZOSvtkcJyLFq9spjc65ZqA58fhzM9sODAduBW5IHPYM8BbwN3mJMqGQlXedc3z/+99nwYIFZ31vy5YtvP766zz22GO89NJLLFmyJOv3r6+v55Zbbsm4pG+mx4lIcctqTN3MqoBrgHeA8xMJvz3xD/E7uFQKVXl38uTJvPjiixw4cADwZsl89tln7N+/H+ccU6dO5Sc/+Qnvv/8+cHZZ3HSccyxatIiDBw8yZcqULkv6Jr9nPkv/ikh8ZHzzkZmdA7wE/Mg5d8Q6T85P/7o6oA7goosuyiXGDgpVeXfMmDE8/PDDTJ48mVOnTtG3b1+efPJJevfuzezZs3HOYWYsXLgQgHvuuYcf/OAHlJWV8e677541rj537lwefvhhjh49yoQJE3jjjTfo27dvlyV96+rqmDx5MhdeeCGrV6/2tfSviMRTRqV3zawv8FtgpXPu0cS+HcANzrlmMxsGvOWcu7yr91Hp3cLTv69I9Plaete8Lvkvge3tCT3hVWBW4vEs4JVsAxUREX9lMvzydeC7wAdmVp/Y97fAI8CLZjYb+AyYmp8QRUQkU5nMflkPpBtA/5YfQbSPT4u/CrmqlYiEQ+B3lJaWlnLw4EElIJ855zh48CClpaVBhyIiBRR46d0RI0awe/du9u/fH3QosVNaWsqIESOCDkNECijwpN63b19GjhwZdBgiIrEQ+PCLiIj4R0ldRCRGlNRFRGJESV1EJEaU1EVEYkRJXUQkRpTURUTyzc+FlbuhpC4ikm+FWlgZJXURkfwp5MLKCUrqIiL5UsiFlROU1EVE8qWQCysnKKmLiORToRZWTgi8oJeISKwVamHlBPXURURiREldRCRGlNRFRGJESV1EJEaU1EVEYkRJXUQkRpTURURiREldRCRGlNRFRGJESV1EJEaU1EVEYkRJXUQkRpTURURiREldRCRGlNRFRGJESV1EJEa6TepmttTM9plZY9K+H5vZn82sPvF1c37DFBGRTGTSU38auDHF/kXOuZrE12v+hiUiIrnoNqk759YBhwoQi4iI9FBPxtR/aGZbEsMzA32LSEREcpZrUl8MXArUAM3AT9MdaGZ1ZrbRzDbu378/x+ZERCQTOSV159xe59xJ59wp4BfA+C6OXeKcq3XO1Q4ePDjXOEVEJAM5JXUzG5b09NtAY7pjRUSkcPp0d4CZPQ/cAJxnZruBh4EbzKwGcMAu4N48xigiIhnqNqk75+5KsfuXeYhFRER6SHeUiojEiJK6iEiMKKmLiMSIknpUNDfDxImwZ0/QkYhIiCmpR8WCBbB+PcyfH3QkIhJiSuphV1YGZrB4MZw65W3NvP0iIp0oqYfdzp0wfTqUl3vPy8thxgz45JNg4xKRUFJSD7thw6CyEtraoLTU21ZWwtChQUcmIiGkpB4Fe/fCnDmwYYO31cVSEUmj2ztKJQSWLz/z+PHHg4tDREJPPXURkRhRUhcRiREldRGRGFFSFxGJESV1EZEYUVIXEYkRJXWRMFDBNvGJknqE6Pc+xlSwTXyipJ6LgLKrfu9jSAXbxGdK6rkocHbV732MqWCb+ExJPRsBZVf93seYCraJz5TUsxFQdtXvfcypYJv4SAW9shFgdm3/va+rgyVLvGF9iQkVbBMfKalnK6Dsqt97EcmEknq2lF1FJMQ0pi4iEiNK6iIiMaKkLiISI0rqIiIxoqQuIhIjSuoiIjGipC4iEiPdJnUzW2pm+8ysMWnfuWa22sw+SmwH5jdMER+odrEUgUx66k8DN3ba9xCw1jl3GbA28Vwk3FS7WIpAt0ndObcOONRp963AM4nHzwC3+RyXiH9Uu1iKSK5j6uc755oBEtsh/oUk4jPVLpYikvcLpWZWZ2YbzWzj/v37892cyNlUu1iKSK5Jfa+ZDQNIbPelO9A5t8Q5V+ucqx08eHCOzYn0kGqWS5HItUrjq8As4JHE9hXfIhLJB1XXlCKRyZTG54E/AJeb2W4zm42XzKeY2UfAlMRzEREJWLc9defcXWm+9S2fY+mR5ma4805YtkxDpSJSvGJzR6mmIItvdJOSRFjkk7qmIIvv1EOQCIt8UtcUZPGNeggSA5FP6pqCLL5RD0FiIPJJHTQFWXyiHoLEQK7z1ENFU5DFN+09hLo6WLLEu2gqEiGxSOoivlEPQSIuFsMvIiLiUVIXEYkRJXURkRhRUhcRiREldRGRGFFSF9U6EYkRJXVRrRORGFFSL2aqdSISO0rqYffCC16i/c1v/H9v1ToRiR0l9bCbNcvbzpjh/3sXotbJ6tXQpw+88YZ/7ykiaSmph5WZ93XsmPf82LEz+/yU72po06bByZNw++3+vq+IpBT/pB7VmR3PPw+9e3fc17s3/PrXmb0+0597+XKvxsnYsd42ufZJT7T/AWpp8Z63tOTnj5KIdBD/pB70zI5UyTWThHvnnamTeqY93qB/7lWrzozVt6uogLVrg4lHpEjEN6nnOrPD7559quTaVcJNbv/ECSgpgQce8LYnTnTfXlhmtEyZAv36ddxXUgKTJhU2DpFi45wr2Ne1117rCqapybnp050rL3cOvO2MGc41N3f9uvvuc65XL2/bE6WlXruZfJWW+td+rj93PvTr59zAgc4tXOht+/UrfAwiMQBsdBnm2fj21LOd2eF3DzfVdMHvfAe+/e3UUwj9aj9Mq/e0tcGhQ/Dgg962ra3wMYgUmfgmdchuZoffc7ZTJdfzz/e+UiVcP9vX+n4iRSveKx9ls4pNPnq46ZZGS7XPz/a1eo9I0TJvuKYwamtr3caNGwvWXta+8x0vudbVwaJF8NvfQmNj4YYukttvT/h+TTEUkcgys03OudpMjo13Tz1byQm0vNybWz1/PjzxROHbVw9bRHIQ7zH1XIRlSqCISA6U1DtTkSsRiTAldeh4w0+YpgSKiGRJSR063uHZ3OzVV7n77u6nBEatrkyU4o1SrCIhUtxJPdX4+QUXwMGD3ve6K3IVdH2VbEUp3ijFKhIiPZrSaGa7gM+Bk8CJ7qbc5Dylsb4ebrgB1q2Dq6/OIdI0mpth3jxYsQJaW1MfU1oKR4923FdWlvruyFTH5ltzs1f8a9myru+WDUu83YlSrCIFks2URj966t90ztVk2mBOZs6Ew4e9C5h+Sh4/by8+1Scxy7OrC6RhupiaSY82TPF2J0qxioRQuIdf2utvb93qPd+61f+a3O13fb7zDlRXe5UQu7tAmupi6pdfwhVXwJYt/sXWlWymXkbp4m+UYhUJoZ4mdQesMrNNZlbnR0AdbN4MF1/ccV9VFTQ0+NdG8iIRo0bB/fdnVjOlc32VlSvz82kinWx7tFGqBxOlWEVCpqdj6hc455rMbAiwGvhr59y6TsfUAXUAF1100bWffvppdo1UV8O2bR2fNzamPbx+9X5uuKmMdavauHrSedm1lYuuPjXkuwTDffd55QRKSrzl7u69t3B3v4pIwRRsTN0515TY7gNeBsanOGaJc67WOVc7ePDg7BtpafES+bJl3vbQoS4PnzntGIdPVjD99i+zbysXhfg0kY56tCLSSc49dTOrAHo55z5PPF4NzHfO/Xu61+SzoJeZA1L1mh3O5XldzCw/TYiIZKNQPfXzgfVm1gC8C/xbVwk93zavOsDF5fvwhvkBHFUV+2hYezD/jXf3aaK+HgYMKNxFVBEpWrEqvVt9bhPbWoadeT6wicZDw/PWXsZGj/Zm7nTVg89kvrmIFKVCz1MPjZbWflQPbGLZwk+pHtjEodbSYAPKZkqm7qAUER/EKqk3tQ2i8dBw7niwisZDw2lqG+Tr+zfX72XigHr2bNmX2QsyuYhagFK/KqMiUjxildTzbcHMD1l/eAzzp2/P7AU1NVBR0XFfRUXHUgcFuINSHwJEioeSerI0XdoyO+p1prdO5BS9Wbx1oteZtgxqkXR3ETWPd1BqvQ+R4hPtpO73rJI0Xdqdm48w/eL/oByv6Fc5rcyo+g8+afi8+/dsavIujt5xh7dtajr7mDzNN1cZFZHiE+01SpMLfTU25j6DpHNlwMWLva9EZcBhNedTWbGDNvpRylHa6EdlxQmGXj3En58jT2uTqoyKSPGJZk893aySCy7IbfA4gy7t3pa+zKlez4ZlnzGnej17DpV0fI+QzkXXTacixSWa89Tr6+G226C7OjJ9+3o1UTLR0zoqmcxFFxHJQfznqaeaVdK/P/Tq9OO097wzkWuXthDlgUVEMhTNpA5nzyo5etSb4pHs8OHME2xyCd6ulrDrLMiCXiIinUT3Qmn7LJJ0y5+1q6iAV1/NXxyZzEUXESmQ6PbU23W+yNlZSQlMmpTfGLIsDywiki/RT+qd5+2Bl8gXLoSBA9MvKO2nTOaii4gUQPSTOnS8yHn//XDLLXDNNXDkCLz2WtevDelURBGRXERzSmMmzj3XGxYZOLDr4RBNRRSRkMtmSmN0L5Sm03mmS0vLmX3Jf8A6H9c+FbHzcSIiERKd4ZdMh0lWrTr7omlFBaxd23GfpiKKSAxFJ6kn13npypQp0K9fx32pZsBoKqKIxFD4k3pXd2ymW/mhtdUbS3/gAe/5F1+kfm9NRRSRmAl/Uk83TDJ1avriXW1tXoJes8Z7ftllqd9bUxFFJGaiMfuluhq2bev6mESZXKDrsgC6CCoiERO/gl7JwySjRnkJvKuVH3QRVESKVDSSevIwyY4d8L3vdb3yQ5YXQbNeUFpEJKSikdQ7y6RMbqqLoGnWIM16QWkRkZCKxpi6X+6/H/75n08vgFFmR2nj7FWYSznKUafVmUUkHOI3pt6d5maar/0LJla+n3oIpazMu3i6eLFXc33xYjBjZ8mVuS8ojYZtRCR84pHUFyxgwfs3s/7zsamHUNKsQTrs0w1UVpzMeUFpDduISNhEu/ZLWRllbYdo48xaoou3TmSxdRpC6VyeN+ni6t6WT5hTvZ66vx/Kkvl7aO68oHSqZk8P20xM36aISACi3VPfuZOdN/2Q6TxHOd5do+V8wQz+lU8umdzx2DQXV5c3TeB/LxrEf59+gP/z2GCWN03ovtnNR3o0bCMiki/R7qkDw+pfp5Ja2ihNDKGUUskRhu78fceqi8lrjj7+eIf3WDCtkfUnpzL/9l/zxKGrum+z5nwqK3bkPGwjIpIv0e6pL1gAzc3s7TOcOSP+jQ2l32QOT7KH873vd3PDUZkd9a6fttzJKXqzuOVOzLz93dnb0pc51evZsOwz5lSvZ08GwzYiIvkWzSmN6RabNutYBqCbhS+aVzcy77aPWdE6hVYqKOcLvl2xin96tDdDH7wb1q1T1UYRCVx8pzSuXg19+sC//MvZs1luvtlL6JdemnHVxWFTRlPZr63j0E3Jlwx97G8zK/ObT+0/6xtvBBeDiEROj5K6md1oZjvM7GMze8ivoNKaNg1OnvRuHuo8m+UPf/COKS3Nquri3tZK5gx8kQ0L13lDNy19U5f5LbT2n/X22wvftohEVs7DL2bWG/hPYAqwG3gPuMs5l7acYs7DL7km1Wx/tvp6uO02+PTTM/uqquCVVwo3DKMKkyLSSaGGX8YDHzvndjrnjgEvALf24P3S62qJOj8rMoZhNaRMl+MTEUmhJ0l9OPCnpOe7E/s6MLM6M9toZhv379+fW0tdLVHndyIOejWkTJfjExFJoSdJPdU4wVnjA865Jc65Wudc7eDBg3NvrX2JuoULvW1r65nv+ZmIw7AaUlc/q4hIF3py89Fu4MKk5yOA/GXA5CmMDz7Y8XvJifeOO/IWQsF09bOKiHShJz3194DLzGykmZUAdwKv+hNWGmnqoYuIiCfnpO6cOwH8EFgJbAdedM5t9SuwlBYsSL/YtIiIROSO0nR3kCYvNi0iElPxu6M0TT30DotNi4hIRJJ653rora3w3HOwLe19TiIiRSkaSR061kMvKfHurtQt9CIiHUQnqS9fDk884d1sdOyYt6+lxZ/aLPX1MGAAbNnS8zhFRAIUnaQO+buFfubM4Ksyioj4IForH7XfQp98h2VPbqHv3MNvr8oIKp4lIpEUrZ46+HsLvZ/FwEREQiBaPXXw9xb6MFRlFBHxUfR66n4LuiqjiIiPotdT91vcioGJSFFTT11EJEaU1EVEYkRJXUQkRpTURURiREldRCRGlNRFRGKkoItkmNl+4NOCNZjaecCBgGPoLIwxQTjjCmNMEM64whgTKK5stMd0sXNucCYvKGhSDwMz25jpCiKFEsaYIJxxhTEmCGdcYYwJFFc2colJwy8iIjGipC4iEiPFmNSXBB1ACmGMCcIZVxhjgnDGFcaYQHFlI+uYim5MXUQkzoqxpy4iEltFk9TNbICZ/cbMPjSz7WY2IeiYAMxsrpltNbNGM3vezEoDimOpme0zs8akfeea2Woz+yixHRiCmP4x8X+4xcxeNrMBhYwpXVxJ35tnZs7MzgtDTGb212a2I3GO/UMhY0oXl5nVmNkGM6s3s41mNr7AMV1oZm8m8sBWM3sgsT+w872LmLI/351zRfEFPAP8IPG4BBgQgpiGA58AZYnnLwLfCyiW/wqMAxqT9v0D8FDi8UPAwhDE9N+APonHCwsdU7q4EvsvBFbi3YtxXtAxAd8E1gD9Es+HhOHfClgF3JR4fDPwVoFjGgaMSzzuD/wncFWQ53sXMWV9vhdFT93MKvFOrl8COOeOOef+X7BRndYHKDOzPkA50NTN8XnhnFsHdF4h5Fa8P4YktrcFHZNzbpVz7kTi6QZgRCFjShdXwiLgQaDgF6rSxHQf8Ihz7svEMftCEpcDKhOPv0KBz3nnXLNz7v3E48+B7XgdrMDO93Qx5XK+F0VSBy4B9gO/MrPNZvaUmVV096J8c879Gfgn4DOgGTjsnFsVbFQdnO+cawbvpAOGBBxPZ98HXg86CAAz+0vgz865MC1wOwq43szeMbPfmdl1QQeU8CPgH83sT3jn//8KKhAzqwKuAd4hJOd7p5iSZXS+F0tS74P3EXCxc+4a4Au8j1eBSozZ3QqMBC4AKsxsZrBRRYOZ/R1wAng2BLGUA38H/H3QsXTSBxgIfA34n8CLZmbBhgR4nyDmOucuBOaS+ARdaGZ2DvAS8CPn3JEgYugsXUzZnO/FktR3A7udc+1/+X6Dl+SDNhn4xDm33zl3HFgO/JeAY0q218yGASS2Bf/4noqZzQL+ApjhEoONAbsU7w9zg5ntwvuI/L6ZDQ00Ku+8X+487wKn8GqJBG0W3rkO8GugoBdKAcysL17yfNY51x5LoOd7mpiyPt+LIqk75/YAfzKzyxO7vgVsCzCkdp8BXzOz8kQP6lt4Y2lh8SreLyCJ7SsBxgKAmd0I/A3wl8651qDjAXDOfeCcG+Kcq3LOVeEl03GJ8y5IK4BJAGY2Cm+CQBgKVjUBExOPJwEfFbLxxO/aL4HtzrlHk74V2PmeLqaczvdCXnUO8guoATYCW/BO9oFBx5SI6yfAh0Aj8H9JzFQIII7n8cb1j+MlpdnAIGAt3i/dWuDcEMT0MfAnoD7x9WQY/q06fX8XhZ/9kurfqgT418S59T4wKQz/VsA3gE1AA9648bUFjukbeBdrtySdRzcHeb53EVPW57vuKBURiZGiGH4RESkWSuoiIjGipC4iEiNK6iIiMaKkLiISI0rqIiIxoqQuIhIjSuoiIjHy/wEb7BUP2i2NUwAAAABJRU5ErkJggg==\n",
      "text/plain": [
       "<Figure size 432x288 with 1 Axes>"
      ]
     },
     "metadata": {
      "needs_background": "light"
     },
     "output_type": "display_data"
    }
   ],
   "source": [
    "#Splitting the data into test and train data,in this case 90% is taken for training and 10% for testing.\n",
    "test_perc=0.1\n",
    "x_train,y_train,x_test,y_test = split_data(x,y,test_perc)\n",
    "#Plotting the graph x_train,y_train,x_test,y_test\n",
    "plt.figure(2)\n",
    "plt.plot(x_train,y_train,'r*',label='Train Data')\n",
    "plt.plot(x_test,y_test,'b*',label='Test Data')\n",
    "plt.legend()\n",
    "plt.show()"
   ]
  },
  {
   "cell_type": "markdown",
   "metadata": {},
   "source": [
    "## Adding x0 bias in Dataset"
   ]
  },
  {
   "cell_type": "code",
   "execution_count": 84,
   "metadata": {},
   "outputs": [
    {
     "name": "stdout",
     "output_type": "stream",
     "text": [
      "87 1\n",
      "(87, 2)\n"
     ]
    }
   ],
   "source": [
    "(r,c)=np.shape(x_train)\n",
    "x0=np.ones((1,r))\n",
    "x_train=np.transpose(np.concatenate((x0,np.transpose(x_train))))\n",
    "print(np.shape(x_train))"
   ]
  },
  {
   "cell_type": "markdown",
   "metadata": {},
   "source": [
    "## Cost Function & Gradient Descent\n",
    "Cost Function is a function that measures the performance of a Machine Learning model for given data. Cost Function quantifies the error between predicted values and expected values and presents it in the form of a single real number.\n",
    "<ul>\n",
    "    <li>shape of x_train (m,2)</li>\n",
    "    <li>shape of y_train (m,1)</li>\n",
    "    <li>shape of theta (n,1)</li>\n",
    "    <li>shape of error (n,1)</li>\n",
    "    <li>shape of h (m,1)</li>\n",
    " </ul>"
   ]
  },
  {
   "cell_type": "code",
   "execution_count": 85,
   "metadata": {},
   "outputs": [],
   "source": [
    "#Initialize variables\n",
    "r,c=np.shape(x_train)\n",
    "theta=np.zeros((c,1))\n",
    "alpha=0.01\n",
    "num_iters=1500"
   ]
  },
  {
   "cell_type": "code",
   "execution_count": 86,
   "metadata": {
    "scrolled": true
   },
   "outputs": [],
   "source": [
    "#Error between the hypothesis and actual y value.\n",
    "def costfunction(x_train,y_train,theta):\n",
    "    m=len(x_train)\n",
    "    j=0\n",
    "    h=np.matmul(x_train,theta)\n",
    "    j=np.sum(((h-y_train)**2),axis=0)       \n",
    "    return j/(2*m)\n"
   ]
  },
  {
   "cell_type": "code",
   "execution_count": 87,
   "metadata": {},
   "outputs": [
    {
     "name": "stdout",
     "output_type": "stream",
     "text": [
      "Cost value is [26.7918314]\n"
     ]
    }
   ],
   "source": [
    "j1 = costfunction(x_train,y_train,theta)\n",
    "print(\"Cost value is\", j1)"
   ]
  },
  {
   "cell_type": "code",
   "execution_count": 88,
   "metadata": {},
   "outputs": [],
   "source": [
    "#Gradient descent is used to calculate, the right values of theta by reducing the cost function.\n",
    "def gradientDescent(x_train,y_train,theta,alpha,num_iters):\n",
    "    l=0\n",
    "    J_history = []\n",
    "    while l<num_iters:\n",
    "        err=np.zeros((c,1))\n",
    "        h=np.matmul(x_train,theta)\n",
    "        err=np.sum(((h-y_train)*(x_train)),axis=0)\n",
    "        err=np.transpose([err])\n",
    "        cost=costfunction(x_train,y_train,theta)\n",
    "        J_history.append(cost)\n",
    "        theta=theta-alpha*(1/r)*err\n",
    "        l=l+1\n",
    "    return theta,J_history\n",
    "    "
   ]
  },
  {
   "cell_type": "code",
   "execution_count": 89,
   "metadata": {},
   "outputs": [
    {
     "name": "stdout",
     "output_type": "stream",
     "text": [
      "Theta values are [[-4.98650287]\n",
      " [ 1.24910305]]\n"
     ]
    }
   ],
   "source": [
    "thetas,J_history=gradientDescent(x_train,y_train,theta,alpha,num_iters)\n",
    "print(\"Theta values are\",thetas)"
   ]
  },
  {
   "cell_type": "code",
   "execution_count": 90,
   "metadata": {},
   "outputs": [
    {
     "data": {
      "image/png": "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\n",
      "text/plain": [
       "<Figure size 432x288 with 1 Axes>"
      ]
     },
     "metadata": {
      "needs_background": "light"
     },
     "output_type": "display_data"
    }
   ],
   "source": [
    "#Plotting the graph Cost Function\n",
    "plt.figure(3)\n",
    "plt.plot(J_history)\n",
    "plt.title(\"COST FUNCTION\")\n",
    "plt.xlabel('Number of iteration')\n",
    "plt.ylabel('Error')\n",
    "plt.show()"
   ]
  },
  {
   "cell_type": "markdown",
   "metadata": {},
   "source": [
    "## Predicting Y"
   ]
  },
  {
   "cell_type": "code",
   "execution_count": 91,
   "metadata": {},
   "outputs": [
    {
     "name": "stdout",
     "output_type": "stream",
     "text": [
      "Training Error:0.08804271831868367,\n",
      "Accuracy:91.19572816813162\n"
     ]
    }
   ],
   "source": [
    "#Predicting y using the values of thetas obtained from gradient descent.\n",
    "yhat=np.matmul(x_train,thetas)\n",
    "train_err=np.sum(np.abs(((y_train/max(y_train))-(yhat/max(yhat)))/len(yhat)))\n",
    "accuracy=(1-train_err)*100\n",
    "print(\"Training Error:{},\\nAccuracy:{}\".format(train_err,accuracy))"
   ]
  },
  {
   "cell_type": "code",
   "execution_count": 92,
   "metadata": {},
   "outputs": [
    {
     "name": "stdout",
     "output_type": "stream",
     "text": [
      "Test Error:0.04979965693206275"
      
     ]
    }
   ],
   "source": [
    "#Predicting y for the new set of data that hasn't been used to train the algorithm.\n",
    "r,c=np.shape(x_test)"
    "x_test=np.transpose(np.concatenate((np.ones((1,r)),np.transpose(x_test))))"
    "yhat_test=np.matmul(x_test,thetas)"
    "test_err=np.sum(np.abs(((y_test/max(y_test))-(yhat_test/max(yhat_test)))/len(yhat_test)))"
    "print(\"Test Error:{}\".format(test_err))"
   ]
  },
  {
   "cell_type": "code",
   "execution_count": 93,
   "metadata": {},
   "outputs": [
    {
     "data": {
      "image/png": "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\n",
      "text/plain": [
       "<Figure size 432x288 with 1 Axes>"
      ]
     },
     "metadata": {
      "needs_background": "light"
     },
     "output_type": "display_data"
    }
   ],
   "source": [
    "#Linear Regression fit\n",
    "plt.figure(4)\n",
    "plt.plot(x_train[:,1],y_train,'*r',label='x_train')\n",
    "plt.plot(x_train[:,1],yhat,'-k',label='yhat')\n",
    "plt.title('Univariable Linear Regression fit')\n",
    "plt.xlabel('X_train')\n",
    "plt.ylabel('yhat')\n",
    "plt.gca().legend(('actual','predicted'))\n",
    "plt.show()"
   ]
  }
 ],
 "metadata": {
  "kernelspec": {
   "display_name": "Python 3",
   "language": "python",
   "name": "python3"
  },
  "language_info": {
   "codemirror_mode": {
    "name": "ipython",
    "version": 3
   },
   "file_extension": ".py",
   "mimetype": "text/x-python",
   "name": "python",
   "nbconvert_exporter": "python",
   "pygments_lexer": "ipython3",
   "version": "3.7.1"
  }
 },
 "nbformat": 4,
 "nbformat_minor": 2
}
