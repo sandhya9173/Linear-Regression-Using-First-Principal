{
 "cells": [
  {
   "cell_type": "markdown",
   "metadata": {},
   "source": [
    "## LINEAR REGRESSION USING FIRST PRINCIPLE"
   ]
  },
  {
   "cell_type": "markdown",
   "metadata": {},
   "source": [
    "### Linear Regression\n",
    "Linear programming is a mathematical technique for finding optimal solutions to problems that can be expressed using linear equations and inequalities.\n",
    "Linear regression attempts to model the relationship between two variables by fitting a linear equation to observed data. One variable is considered to be an explanatory variable, and the other is considered to be a dependent variable."
   ]
  },
  {
   "cell_type": "markdown",
   "metadata": {},
   "source": [
    "## Overview"
   ]
  },
  {
   "cell_type": "markdown",
   "metadata": {},
   "source": [
    "#### Hypothesis (h)\n",
    "Hypothesis is a significant relationship between an independent variable X and a dependent variable Y.\n",
    "\n",
    "${x_0}$ is bias value should be 1\n",
    "\n",
    "\n",
    "   $\\begin{align}\n",
    "    \\ {h} = \\theta_0*x_0+ \\theta_1*x_1 \\;\\;(For\\;single\\;variable)\n",
    "    \\end{align}\n",
    "   $"
   ]
  },
  {
   "cell_type": "markdown",
   "metadata": {},
   "source": [
    "#### Cost Function (mean squared difference )\n",
    "$\\begin{align}\n",
    "   \\ {J(min)} = (1/(2*m))* \\sum_{i=1}^m (h_i - y_i )^2\n",
    "   \\end{align}\n",
    "    $"
   ]
  },
  {
   "cell_type": "markdown",
   "metadata": {},
   "source": [
    "#### Gradient Descent\n",
    "Gradient Descent is a general function for minimizing a parameter, in this case the Mean Squared Error(MSE) cost function.\n",
    "\n",
    "$\\begin{align}\n",
    "   \\ {\\theta} = {\\theta}-{ \\alpha }\\frac{\\partial j}{\\Bigl({\\partial \\theta}\\Bigr)}  \n",
    "   \\end{align}\n",
    "    $\n"
   ]
  },
  {
   "cell_type": "markdown",
   "metadata": {},
   "source": [
    "## Data\n",
    "Import data to apply linear regression."
   ]
  },
  {
   "cell_type": "code",
   "execution_count": 97,
   "metadata": {},
   "outputs": [],
   "source": [
    "#Import libraries\n",
    "import numpy as np\n",
    "import pandas as pd\n",
    "import matplotlib.pyplot as plt"
   ]
  },
  {
   "cell_type": "code",
   "execution_count": 98,
   "metadata": {},
   "outputs": [
    {
     "data": {
      "text/html": [
       "<div>\n",
       "<style scoped>\n",
       "    .dataframe tbody tr th:only-of-type {\n",
       "        vertical-align: middle;\n",
       "    }\n",
       "\n",
       "    .dataframe tbody tr th {\n",
       "        vertical-align: top;\n",
       "    }\n",
       "\n",
       "    .dataframe thead th {\n",
       "        text-align: right;\n",
       "    }\n",
       "</style>\n",
       "<table border=\"1\" class=\"dataframe\">\n",
       "  <thead>\n",
       "    <tr style=\"text-align: right;\">\n",
       "      <th></th>\n",
       "      <th>X</th>\n",
       "      <th>Y</th>\n",
       "    </tr>\n",
       "  </thead>\n",
       "  <tbody>\n",
       "    <tr>\n",
       "      <th>0</th>\n",
       "      <td>6.1101</td>\n",
       "      <td>17.5920</td>\n",
       "    </tr>\n",
       "    <tr>\n",
       "      <th>1</th>\n",
       "      <td>5.5277</td>\n",
       "      <td>9.1302</td>\n",
       "    </tr>\n",
       "    <tr>\n",
       "      <th>2</th>\n",
       "      <td>8.5186</td>\n",
       "      <td>13.6620</td>\n",
       "    </tr>\n",
       "    <tr>\n",
       "      <th>3</th>\n",
       "      <td>7.0032</td>\n",
       "      <td>11.8540</td>\n",
       "    </tr>\n",
       "    <tr>\n",
       "      <th>4</th>\n",
       "      <td>5.8598</td>\n",
       "      <td>6.8233</td>\n",
       "    </tr>\n",
       "  </tbody>\n",
       "</table>\n",
       "</div>"
      ],
      "text/plain": [
       "        X        Y\n",
       "0  6.1101  17.5920\n",
       "1  5.5277   9.1302\n",
       "2  8.5186  13.6620\n",
       "3  7.0032  11.8540\n",
       "4  5.8598   6.8233"
      ]
     },
     "execution_count": 98,
     "metadata": {},
     "output_type": "execute_result"
    }
   ],
   "source": [
    "# Read the data set\n",
    "data = pd.read_csv('ex1data1.csv')\n",
    "data.head()"
   ]
  },
  {
   "cell_type": "code",
   "execution_count": 99,
   "metadata": {},
   "outputs": [
    {
     "name": "stdout",
     "output_type": "stream",
     "text": [
      "(97, 1)\n",
      "(97, 1)\n"
     ]
    }
   ],
   "source": [
    "#loc attribute access paticular cell in the given DataFrame using the index & column labels.\n",
    "x=np.array(data.iloc[:,0:-1])\n",
    "y=np.transpose([np.array(data.iloc[:,-1])])\n",
    "print(np.shape(x))\n",
    "print(np.shape(y))"
   ]
  },
  {
   "cell_type": "code",
   "execution_count": 100,
   "metadata": {},
   "outputs": [
    {
     "data": {
      "image/png": "[encoded data removed]",
      "text/plain": [
       "<Figure size 432x288 with 1 Axes>"
      ]
     },
     "metadata": {
      "needs_background": "light"
     },
     "output_type": "display_data"
    }
   ],
   "source": [
    "#ploting X and Y Dataset (x should be input dataset and y should output dataset(left side))\n",
    "plt.figure(1)\n",
    "plt.title(\"Generated data\")\n",
    "plt.xlabel(\"X\")\n",
    "plt.ylabel(\"Y\")\n",
    "plt.plot(x,y,'*')\n",
    "plt.show()"
   ]
  },
  {
   "cell_type": "markdown",
   "metadata": {},
   "source": [
    "### Training & Testing Dataset"
   ]
  },
  {
   "cell_type": "markdown",
   "metadata": {},
   "source": [
    "The training data is used to make sure that, the machine recognizes patterns in the given data and the test data is used to see how well the machine can predict new values based on its training."
   ]
  },
  {
   "cell_type": "code",
   "execution_count": 101,
   "metadata": {},
   "outputs": [],
   "source": [
    "#split function using randomization \n",
    "def split_data(x,y,test_per):\n",
    "    m=len(x)\n",
    "    random_data=np.random.randint(0,m,m)\n",
    "    #Number Of train set & test set \n",
    "    num_train_set = int((1-test_per)*m)\n",
    "    num_test_set  = int(test_per*m)\n",
    "    train_ind=random_data[0:num_train_set]\n",
    "    #creating a array of zeros for the train dataset\n",
    "    x_train=np.zeros((len(train_ind),1))\n",
    "    y_train=np.zeros((len(train_ind),1))\n",
    "    # x_train & y_train after the split \n",
    "    x_train = x[train_ind]\n",
    "    y_train = y[train_ind]\n",
    "    \n",
    "    num_test_set=random_data[num_train_set::]\n",
    "    #creating a array of zeros for the test dataset\n",
    "    x_test=np.zeros((len(num_test_set),1))\n",
    "    y_test=np.zeros((len(num_test_set),1))\n",
    "    #x_test & y_test after the split\n",
    "    x_test = x[num_test_set]\n",
    "    y_test = y[num_test_set]\n",
    "    return x_train,y_train,x_test,y_test"
   ]
  },
  {
   "cell_type": "code",
   "execution_count": 102,
   "metadata": {},
   "outputs": [
    {
     "data": {
      "image/png": "[encoded data removed]",
      "text/plain": [
       "<Figure size 432x288 with 1 Axes>"
      ]
     },
     "metadata": {
      "needs_background": "light"
     },
     "output_type": "display_data"
    }
   ],
   "source": [
    "#Splitting the data into test and train data,in this case 90% is taken for training and 10% for testing.\n",
    "test_perc=0.1\n",
    "x_train,y_train,x_test,y_test = split_data(x,y,test_perc)\n",
    "#Plotting the graph x_train,y_train,x_test,y_test\n",
    "plt.figure(2)\n",
    "plt.plot(x_train,y_train,'r*',label='Train Data')\n",
    "plt.plot(x_test,y_test,'b*',label='Test Data')\n",
    "plt.legend()\n",
    "plt.show()"
   ]
  },
  {
   "cell_type": "markdown",
   "metadata": {},
   "source": [
    "## Adding x0 bias in Dataset"
   ]
  },
  {
   "cell_type": "code",
   "execution_count": 103,
   "metadata": {},
   "outputs": [
    {
     "name": "stdout",
     "output_type": "stream",
     "text": [
      "(87, 2)\n"
     ]
    }
   ],
   "source": [
    "(r,c)=np.shape(x_train)\n",
    "x0=np.ones((1,r))\n",
    "x_train=np.transpose(np.concatenate((x0,np.transpose(x_train))))  #Adding Bias in X_train\n",
    "print(np.shape(x_train))"
   ]
  },
  {
   "cell_type": "code",
   "execution_count": 104,
   "metadata": {},
   "outputs": [],
   "source": [
    "r,c=np.shape(x_test)\n",
    "x_test=np.transpose(np.concatenate((np.ones((1,r)),np.transpose(x_test))))  # Adding Bias in X_test"
   ]
  },
  {
   "cell_type": "markdown",
   "metadata": {},
   "source": [
    "## Cost Function & Gradient Descent\n",
    "Cost Function is a function that measures the performance of a Machine Learning model for given data. Cost Function quantifies the error between predicted values and expected values and presents it in the form of a single real number.\n",
    "<ul>\n",
    "    <li>shape of x_train (m,2)</li>\n",
    "    <li>shape of y_train (m,1)</li>\n",
    "    <li>shape of theta (n,1)</li>\n",
    "    <li>shape of error (n,1)</li>\n",
    "    <li>shape of h (m,1)</li>\n",
    " </ul>"
   ]
  },
  {
   "cell_type": "code",
   "execution_count": 105,
   "metadata": {},
   "outputs": [],
   "source": [
    "#Initialize variables\n",
    "r,c=np.shape(x_train)\n",
    "theta=np.zeros((c,1))\n",
    "alpha=0.01\n",
    "num_iters=1500"
   ]
  },
  {
   "cell_type": "code",
   "execution_count": 106,
   "metadata": {
    "scrolled": true
   },
   "outputs": [],
   "source": [
    "#Error between the hypothesis and actual y value.\n",
    "def costfunction(x_train,y_train,theta):\n",
    "    m=len(x_train)\n",
    "    j=0\n",
    "    h=np.matmul(x_train,theta)\n",
    "    j=np.sum(((h-y_train)**2),axis=0)       \n",
    "    return j/(2*m)\n"
   ]
  },
  {
   "cell_type": "code",
   "execution_count": 107,
   "metadata": {},
   "outputs": [
    {
     "name": "stdout",
     "output_type": "stream",
     "text": [
      "Cost value is [27.29668039]\n"
     ]
    }
   ],
   "source": [
    "j1 = costfunction(x_train,y_train,theta)\n",
    "print(\"Cost value is\", j1)"
   ]
  },
  {
   "cell_type": "code",
   "execution_count": 108,
   "metadata": {},
   "outputs": [],
   "source": [
    "#Gradient descent is used to calculate, the right values of theta by reducing the cost function.\n",
    "def gradientDescent(x_train,y_train,theta,alpha,num_iters):\n",
    "    l=0\n",
    "    J_history = []\n",
    "    while l<num_iters:\n",
    "        err=np.zeros((c,1))\n",
    "        h=np.matmul(x_train,theta)\n",
    "        err=np.sum(((h-y_train)*(x_train)),axis=0)\n",
    "        err=np.transpose([err])\n",
    "        cost=costfunction(x_train,y_train,theta)\n",
    "        J_history.append(cost)\n",
    "        theta=theta-alpha*(1/r)*err\n",
    "        l=l+1\n",
    "    return theta,J_history\n",
    "    "
   ]
  },
  {
   "cell_type": "code",
   "execution_count": 109,
   "metadata": {},
   "outputs": [
    {
     "name": "stdout",
     "output_type": "stream",
     "text": [
      "Theta values are [[-3.85243645]\n",
      " [ 1.16496768]]\n"
     ]
    }
   ],
   "source": [
    "thetas,J_history=gradientDescent(x_train,y_train,theta,alpha,num_iters)\n",
    "print(\"Theta values are\",thetas)"
   ]
  },
  {
   "cell_type": "code",
   "execution_count": 110,
   "metadata": {},
   "outputs": [
    {
     "data": {
      "image/png": "[encoded data removed]",
      "text/plain": [
       "<Figure size 432x288 with 1 Axes>"
      ]
     },
     "metadata": {
      "needs_background": "light"
     },
     "output_type": "display_data"
    }
   ],
   "source": [
    "#Cost Function graph\n",
    "plt.figure(3)\n",
    "plt.plot(J_history)\n",
    "plt.title(\"COST FUNCTION\")\n",
    "plt.xlabel('Number of iteration')\n",
    "plt.ylabel('Error')\n",
    "plt.show()"
   ]
  },
  {
   "cell_type": "markdown",
   "metadata": {},
   "source": [
    "## Predicting Y"
   ]
  },
  {
   "cell_type": "code",
   "execution_count": 111,
   "metadata": {},
   "outputs": [
    {
     "name": "stdout",
     "output_type": "stream",
     "text": [
      "Training Error:0.09232995996774862,\n",
      "Accuracy:90.76700400322514\n"
     ]
    }
   ],
   "source": [
    "#Predicting y using the values of thetas obtained from gradient descent.\n",
    "yhat=np.matmul(x_train,thetas)\n",
    "train_err=np.sum(np.abs(((y_train/max(y_train))-(yhat/max(yhat)))/len(yhat)))\n",
    "accuracy=(1-train_err)*100\n",
    "print(\"Training Error:{},\\nAccuracy:{}\".format(train_err,accuracy))"
   ]
  },
  {
   "cell_type": "code",
   "execution_count": 112,
   "metadata": {},
   "outputs": [
    {
     "name": "stdout",
     "output_type": "stream",
     "text": [
      "Testing Error:0.22985082332259127\n"
     ]
    }
   ],
   "source": [
    "#Predicting y for the new set of data that hasn't been used to train the algorithm.\n",
    "yhat_test=np.matmul(x_test,thetas)\n",
    "test_err=np.sum(np.abs(((y_test/max(y_test))-(yhat_test/max(yhat_test)))/len(yhat_test)))\n",
    "print(\"Testing Error:{}\".format(test_err))"
   ]
  },
  {
   "cell_type": "code",
   "execution_count": 113,
   "metadata": {},
   "outputs": [
    {
     "data": {
      "image/png": "[encoded data removed]",
      "text/plain": [
       "<Figure size 432x288 with 1 Axes>"
      ]
     },
     "metadata": {
      "needs_background": "light"
     },
     "output_type": "display_data"
    }
   ],
   "source": [
    "#Linear Regression fit\n",
    "plt.figure(4)\n",
    "plt.plot(x_train[:,1],y_train,'*r',label='x_train')\n",
    "plt.plot(x_train[:,1],yhat,'-k',label='yhat')\n",
    "plt.title('Univariable Linear Regression fit')\n",
    "plt.xlabel('X_train')\n",
    "plt.ylabel('yhat')\n",
    "plt.gca().legend(('actual','predicted'))\n",
    "plt.show()"
   ]
  }
 ],
 "metadata": {
  "kernelspec": {
   "display_name": "Python 3",
   "language": "python",
   "name": "python3"
  },
  "language_info": {
   "codemirror_mode": {
    "name": "ipython",
    "version": 3
   },
   "file_extension": ".py",
   "mimetype": "text/x-python",
   "name": "python",
   "nbconvert_exporter": "python",
   "pygments_lexer": "ipython3",
   "version": "3.7.1"
  }
 },
 "nbformat": 4,
 "nbformat_minor": 2
}
